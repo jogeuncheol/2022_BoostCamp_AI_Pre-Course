{
  "nbformat": 4,
  "nbformat_minor": 0,
  "metadata": {
    "colab": {
      "name": "matrix_multiplication.ipynb",
      "provenance": [],
      "authorship_tag": "ABX9TyN2H2OnTh0vJYlBjH4MY+1p",
      "include_colab_link": true
    },
    "kernelspec": {
      "name": "python3",
      "display_name": "Python 3"
    },
    "language_info": {
      "name": "python"
    }
  },
  "cells": [
    {
      "cell_type": "markdown",
      "metadata": {
        "id": "view-in-github",
        "colab_type": "text"
      },
      "source": [
        "<a href=\"https://colab.research.google.com/github/jogeuncheol/2022_BoostCamp_AI_Pre-Course/blob/main/matrix_multiplication.ipynb\" target=\"_parent\"><img src=\"https://colab.research.google.com/assets/colab-badge.svg\" alt=\"Open In Colab\"/></a>"
      ]
    },
    {
      "cell_type": "code",
      "execution_count": 1,
      "metadata": {
        "id": "uXcGjTLvfnBC"
      },
      "outputs": [],
      "source": [
        "import numpy as np"
      ]
    },
    {
      "cell_type": "code",
      "source": [
        "X = np.array([\n",
        "  [1, -2, 3],\n",
        "  [7, 5, 0],\n",
        "  [-2, -1, 2]\n",
        "])\n",
        "\n",
        "Y = np.array([\n",
        "  [0, 1],\n",
        "  [1, -1],\n",
        "  [-2, 1]\n",
        "])\n",
        "# numpy에선 @연산을 사용함\n",
        "X @ Y"
      ],
      "metadata": {
        "colab": {
          "base_uri": "https://localhost:8080/"
        },
        "id": "7ynK9GKTgJ8e",
        "outputId": "cf2933d9-40f7-47ed-d257-5d27bd4648e8"
      },
      "execution_count": 2,
      "outputs": [
        {
          "output_type": "execute_result",
          "data": {
            "text/plain": [
              "array([[-8,  6],\n",
              "       [ 5,  2],\n",
              "       [-5,  1]])"
            ]
          },
          "metadata": {},
          "execution_count": 2
        }
      ]
    },
    {
      "cell_type": "code",
      "source": [
        "Z = np.array([\n",
        "  [3, 2, 1],\n",
        "  [0, 1, 0],\n",
        "  [-2, 0, 1]\n",
        "])\n",
        "np.inner(X, Z)"
      ],
      "metadata": {
        "colab": {
          "base_uri": "https://localhost:8080/"
        },
        "id": "Ac7a_nHxgK8d",
        "outputId": "f35c5273-2559-4b15-b3b1-d7c1bc8de5f3"
      },
      "execution_count": 4,
      "outputs": [
        {
          "output_type": "execute_result",
          "data": {
            "text/plain": [
              "array([[  2,  -2,   1],\n",
              "       [ 31,   5, -14],\n",
              "       [ -6,  -1,   6]])"
            ]
          },
          "metadata": {},
          "execution_count": 4
        }
      ]
    },
    {
      "cell_type": "code",
      "source": [
        "# X multiplication np.transpose(Z)\n",
        "X @ Z.T"
      ],
      "metadata": {
        "colab": {
          "base_uri": "https://localhost:8080/"
        },
        "id": "-0gkx6GHhPTg",
        "outputId": "2e3bd4d4-6aa7-4d2b-848b-5ac8ee6aceee"
      },
      "execution_count": 6,
      "outputs": [
        {
          "output_type": "execute_result",
          "data": {
            "text/plain": [
              "array([[  2,  -2,   1],\n",
              "       [ 31,   5, -14],\n",
              "       [ -6,  -1,   6]])"
            ]
          },
          "metadata": {},
          "execution_count": 6
        }
      ]
    },
    {
      "cell_type": "code",
      "source": [
        ""
      ],
      "metadata": {
        "id": "FlYEDSS2hvO2"
      },
      "execution_count": null,
      "outputs": []
    }
  ]
}