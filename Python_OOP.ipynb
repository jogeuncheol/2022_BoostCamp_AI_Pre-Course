{
  "nbformat": 4,
  "nbformat_minor": 0,
  "metadata": {
    "colab": {
      "name": "Python OOP.ipynb",
      "provenance": [],
      "authorship_tag": "ABX9TyNmgszNJk7zWDFgStwoNH8n",
      "include_colab_link": true
    },
    "kernelspec": {
      "name": "python3",
      "display_name": "Python 3"
    },
    "language_info": {
      "name": "python"
    }
  },
  "cells": [
    {
      "cell_type": "markdown",
      "metadata": {
        "id": "view-in-github",
        "colab_type": "text"
      },
      "source": [
        "<a href=\"https://colab.research.google.com/github/jogeuncheol/2022_BoostCamp_AI_Pre-Course/blob/main/Python_OOP.ipynb\" target=\"_parent\"><img src=\"https://colab.research.google.com/assets/colab-badge.svg\" alt=\"Open In Colab\"/></a>"
      ]
    },
    {
      "cell_type": "markdown",
      "source": [
        "# 축구 선수 정보를 Class로 구현하기"
      ],
      "metadata": {
        "id": "NV3J2HG9bKEz"
      }
    },
    {
      "cell_type": "code",
      "source": [
        "class SoccerPlayer(object):\n",
        "  def __init__(self, name, position, back_number):\n",
        "    self.name = name\n",
        "    self.position = position\n",
        "    self.back_number = back_number\n",
        "\n",
        "  def change_back_number(self, new_number):\n",
        "    print(\"선수의 등번호를 변경합니다. : From %d to %d\" % (self.back_number, new_number))\n",
        "    self.back_number = new_number\n",
        "  \n",
        "  def __str__(self):\n",
        "    return \"Hello, My name is %s. My back number is %d\" % (self.name, self.back_number)\n",
        "\n",
        "  def __add__(self, other):\n",
        "    return self.name + other.name"
      ],
      "metadata": {
        "id": "WR7WYlf2bNVJ"
      },
      "execution_count": 10,
      "outputs": []
    },
    {
      "cell_type": "code",
      "source": [
        "apple = SoccerPlayer('Apple', 'FW', 7)\n",
        "banana = SoccerPlayer('Banana', 'FW', 8)"
      ],
      "metadata": {
        "id": "L2IW2DR-ccOA"
      },
      "execution_count": 12,
      "outputs": []
    },
    {
      "cell_type": "code",
      "source": [
        "apple, banana"
      ],
      "metadata": {
        "colab": {
          "base_uri": "https://localhost:8080/"
        },
        "id": "f_rbCbUVciU_",
        "outputId": "41b06022-54aa-4570-f703-d3f7fa2b0955"
      },
      "execution_count": 13,
      "outputs": [
        {
          "output_type": "execute_result",
          "data": {
            "text/plain": [
              "(<__main__.SoccerPlayer at 0x7fb42e4744d0>,\n",
              " <__main__.SoccerPlayer at 0x7fb42e474fd0>)"
            ]
          },
          "metadata": {},
          "execution_count": 13
        }
      ]
    },
    {
      "cell_type": "code",
      "source": [
        "apple is banana"
      ],
      "metadata": {
        "colab": {
          "base_uri": "https://localhost:8080/"
        },
        "id": "n9cX0f-6c-Gm",
        "outputId": "a455764d-f420-4d03-83d4-490d51925dd3"
      },
      "execution_count": 14,
      "outputs": [
        {
          "output_type": "execute_result",
          "data": {
            "text/plain": [
              "False"
            ]
          },
          "metadata": {},
          "execution_count": 14
        }
      ]
    },
    {
      "cell_type": "code",
      "source": [
        "print(apple), apple"
      ],
      "metadata": {
        "colab": {
          "base_uri": "https://localhost:8080/"
        },
        "id": "reaQx6P9dAYf",
        "outputId": "bb0e08ec-3673-486e-af23-bb5454931ac8"
      },
      "execution_count": 15,
      "outputs": [
        {
          "output_type": "stream",
          "name": "stdout",
          "text": [
            "Hello, My name is Apple. My back number is 7\n"
          ]
        },
        {
          "output_type": "execute_result",
          "data": {
            "text/plain": [
              "(None, <__main__.SoccerPlayer at 0x7fb42e4744d0>)"
            ]
          },
          "metadata": {},
          "execution_count": 15
        }
      ]
    },
    {
      "cell_type": "code",
      "source": [
        "print(banana), banana"
      ],
      "metadata": {
        "colab": {
          "base_uri": "https://localhost:8080/"
        },
        "id": "3hZfBcXLdFhs",
        "outputId": "869b7cab-6bbd-4760-e342-cd1aa5e9918d"
      },
      "execution_count": 16,
      "outputs": [
        {
          "output_type": "stream",
          "name": "stdout",
          "text": [
            "Hello, My name is Banana. My back number is 8\n"
          ]
        },
        {
          "output_type": "execute_result",
          "data": {
            "text/plain": [
              "(None, <__main__.SoccerPlayer at 0x7fb42e474fd0>)"
            ]
          },
          "metadata": {},
          "execution_count": 16
        }
      ]
    },
    {
      "cell_type": "code",
      "source": [
        "apple + banana"
      ],
      "metadata": {
        "colab": {
          "base_uri": "https://localhost:8080/",
          "height": 35
        },
        "id": "Az-DKxIRdIAQ",
        "outputId": "4be927ec-c18b-4a7e-d8d7-a0b0113bcd5a"
      },
      "execution_count": 17,
      "outputs": [
        {
          "output_type": "execute_result",
          "data": {
            "text/plain": [
              "'AppleBanana'"
            ],
            "application/vnd.google.colaboratory.intrinsic+json": {
              "type": "string"
            }
          },
          "metadata": {},
          "execution_count": 17
        }
      ]
    },
    {
      "cell_type": "code",
      "source": [
        "apple.change_back_number(10)"
      ],
      "metadata": {
        "colab": {
          "base_uri": "https://localhost:8080/"
        },
        "id": "B6GV1mOFdYrt",
        "outputId": "6bcd0be5-2ede-410c-cb60-a6713fc6f42e"
      },
      "execution_count": 18,
      "outputs": [
        {
          "output_type": "stream",
          "name": "stdout",
          "text": [
            "선수의 등번호를 변경합니다. : From 7 to 10\n"
          ]
        }
      ]
    },
    {
      "cell_type": "markdown",
      "source": [
        "# **Note를 정리하는 프로그램 작성**"
      ],
      "metadata": {
        "id": "xXboXHJ1esgB"
      }
    },
    {
      "cell_type": "code",
      "source": [
        "class Note(object):\n",
        "  def __init__(self, content = None):\n",
        "    self.content = content\n",
        "  \n",
        "  def write_content(self, content):\n",
        "    self.contnet = str(content)\n",
        "  \n",
        "  def remove_all(self):\n",
        "    self.content = None\n",
        "\n",
        "  def __add__(self, other):\n",
        "    return self.content + other.content\n",
        "\n",
        "  def __str__(self):\n",
        "    return self.content"
      ],
      "metadata": {
        "id": "83vrLJJ1e5FD"
      },
      "execution_count": 19,
      "outputs": []
    },
    {
      "cell_type": "code",
      "source": [
        "class NoteBook(object):\n",
        "  def __init__(self, title):\n",
        "    self.title = title\n",
        "    self.page_number = 1\n",
        "    self.notes = {} # dictionary\n",
        "\n",
        "  def add_note(self, note, page = 0):\n",
        "    if self.page_number < 300:\n",
        "      if not page:\n",
        "        self.notes[self.page_number] = note\n",
        "        self.page_number += 1\n",
        "      else:\n",
        "        self.notes = {page: note}\n",
        "        self.page_number += 1\n",
        "    else:\n",
        "      print(\"page is 300\")\n",
        "  \n",
        "  def remove_note(self, page_number):\n",
        "    if page_number in self.notes:\n",
        "      return self.notes.pop(page_number)\n",
        "    else:\n",
        "      print(\"해당 페이지가 없습니다.\")\n",
        "\n",
        "  def get_number_of_page(self):\n",
        "    return (len(self.notes.keys()))"
      ],
      "metadata": {
        "id": "FGoVdkeEgVSV"
      },
      "execution_count": 20,
      "outputs": []
    },
    {
      "cell_type": "code",
      "source": [
        "my_notebook = NoteBook('hello world')"
      ],
      "metadata": {
        "id": "2ShACOQXh2kT"
      },
      "execution_count": 21,
      "outputs": []
    },
    {
      "cell_type": "code",
      "source": [
        "new_note = Note('hello world!!!')"
      ],
      "metadata": {
        "id": "0HRs_zNmiFHn"
      },
      "execution_count": 22,
      "outputs": []
    },
    {
      "cell_type": "code",
      "source": [
        "print(new_note)"
      ],
      "metadata": {
        "colab": {
          "base_uri": "https://localhost:8080/"
        },
        "id": "AmAC5iMHiI70",
        "outputId": "644c2229-caab-4863-e3fc-5705ca74bded"
      },
      "execution_count": 23,
      "outputs": [
        {
          "output_type": "stream",
          "name": "stdout",
          "text": [
            "hello world!!!\n"
          ]
        }
      ]
    },
    {
      "cell_type": "code",
      "source": [
        "new_note2 = Note('222')"
      ],
      "metadata": {
        "id": "d3wO-ivaiKyK"
      },
      "execution_count": 24,
      "outputs": []
    },
    {
      "cell_type": "code",
      "source": [
        "print(new_note2)"
      ],
      "metadata": {
        "colab": {
          "base_uri": "https://localhost:8080/"
        },
        "id": "DO6FueWwiOEx",
        "outputId": "467cd87d-bd76-48bc-a8b8-b764b3316dcf"
      },
      "execution_count": 26,
      "outputs": [
        {
          "output_type": "stream",
          "name": "stdout",
          "text": [
            "222\n"
          ]
        }
      ]
    },
    {
      "cell_type": "code",
      "source": [
        "my_notebook.add_note(new_note)"
      ],
      "metadata": {
        "id": "qk3skNgGiPdt"
      },
      "execution_count": 27,
      "outputs": []
    },
    {
      "cell_type": "code",
      "source": [
        "my_notebook.add_note(new_note2)"
      ],
      "metadata": {
        "id": "yg9iVS0NiVvY"
      },
      "execution_count": 28,
      "outputs": []
    },
    {
      "cell_type": "code",
      "source": [
        "my_notebook.get_number_of_page()"
      ],
      "metadata": {
        "colab": {
          "base_uri": "https://localhost:8080/"
        },
        "id": "f190AlNDiaVo",
        "outputId": "a26be0fc-0c23-4d39-ebd7-66ac89b7e7d4"
      },
      "execution_count": 31,
      "outputs": [
        {
          "output_type": "execute_result",
          "data": {
            "text/plain": [
              "2"
            ]
          },
          "metadata": {},
          "execution_count": 31
        }
      ]
    },
    {
      "cell_type": "code",
      "source": [
        "print(my_notebook.notes[1])"
      ],
      "metadata": {
        "colab": {
          "base_uri": "https://localhost:8080/"
        },
        "id": "68OSRMlyijc7",
        "outputId": "9089b99a-de53-4180-a4b1-2937c1b5e952"
      },
      "execution_count": 33,
      "outputs": [
        {
          "output_type": "stream",
          "name": "stdout",
          "text": [
            "hello world!!!\n"
          ]
        }
      ]
    },
    {
      "cell_type": "code",
      "source": [
        "print(my_notebook.notes[2])"
      ],
      "metadata": {
        "colab": {
          "base_uri": "https://localhost:8080/"
        },
        "id": "1tL7Qg8wild2",
        "outputId": "d4d387cb-f93e-4702-bf6a-a2bd364cae68"
      },
      "execution_count": 34,
      "outputs": [
        {
          "output_type": "stream",
          "name": "stdout",
          "text": [
            "222\n"
          ]
        }
      ]
    },
    {
      "cell_type": "markdown",
      "source": [
        "# 상속"
      ],
      "metadata": {
        "id": "X-pK3IlBkNaz"
      }
    },
    {
      "cell_type": "code",
      "source": [
        "class Person: # class Person(object): 와 같음\n",
        "  def __init__(self, name, age, gender):\n",
        "    self.name = name\n",
        "    self.age = age\n",
        "    self.gender = gender\n",
        "\n",
        "  def about_me(self):\n",
        "    print(\"저의 이름은 \", self.name, \"이구요, 제 나이는 \", str(self.age), \"살 입니다.\")\n",
        "\n",
        "  def __str__(self):\n",
        "    return \"저의 이름은 \", self.name, \"이구요, 제 나이는 \", str(self.age), \"살 입니다.\""
      ],
      "metadata": {
        "id": "o8pH54MpjE36"
      },
      "execution_count": 35,
      "outputs": []
    },
    {
      "cell_type": "code",
      "source": [
        "class Employee(Person): # 부모 클래스 Person으로 부터 상속\n",
        "  def __init__(self, name, age, gender, salary, hire_date):\n",
        "    super().__init__(name, age, gender) # 부모의 객체를 사용 super::부모클래스를 뜻함\n",
        "    self.salary = salary\n",
        "    self.hire_date = hire_date # 속성 값 추가\n",
        "\n",
        "  def do_work(self):\n",
        "    print(\"work! work! work!\")\n",
        "\n",
        "  def about_me(self):   # 부모 클래스의 함수 재정의\n",
        "    super().about_me()  # 부모 클래스의 about_me 함수를 사용\n",
        "    print(\"급여는 \", self.salary, \" 입사일은 \", self.hire_date, \" 입니다.\")"
      ],
      "metadata": {
        "id": "j4F3rvWUklhF"
      },
      "execution_count": 41,
      "outputs": []
    },
    {
      "cell_type": "code",
      "source": [
        "myPerson = Person('Jo', 24, 'male')\n",
        "myPerson.about_me()"
      ],
      "metadata": {
        "colab": {
          "base_uri": "https://localhost:8080/"
        },
        "id": "FNohT6uslizz",
        "outputId": "c0b8e008-581d-4242-8279-96108779c4be"
      },
      "execution_count": 42,
      "outputs": [
        {
          "output_type": "stream",
          "name": "stdout",
          "text": [
            "저의 이름은  Jo 이구요, 제 나이는  24 살 입니다.\n"
          ]
        }
      ]
    },
    {
      "cell_type": "code",
      "source": [
        "myEmployee = Employee('ge', 25, 'male', 1000, '2022/03/02')\n",
        "myEmployee.about_me()"
      ],
      "metadata": {
        "colab": {
          "base_uri": "https://localhost:8080/"
        },
        "id": "-_S_faQUlqCI",
        "outputId": "f178159a-1c8c-4efa-905e-39d7fa17f6f8"
      },
      "execution_count": 43,
      "outputs": [
        {
          "output_type": "stream",
          "name": "stdout",
          "text": [
            "저의 이름은  ge 이구요, 제 나이는  25 살 입니다.\n",
            "급여는  1000  입사일은  2022/03/02  입니다.\n"
          ]
        }
      ]
    },
    {
      "cell_type": "markdown",
      "source": [
        "# 다형성"
      ],
      "metadata": {
        "id": "CZyPhkUHnvIS"
      }
    },
    {
      "cell_type": "code",
      "source": [
        "class Animal:\n",
        "  def __init__(self, name):\n",
        "    self.name = name\n",
        "  \n",
        "  def talk(self):\n",
        "    raise NotImplementedError(\"Subclass must implement abstract method\")"
      ],
      "metadata": {
        "id": "iMLLxZpll8JZ"
      },
      "execution_count": 44,
      "outputs": []
    },
    {
      "cell_type": "code",
      "source": [
        "class Cat(Animal):\n",
        "  def talk(self):\n",
        "    return \"Meow\""
      ],
      "metadata": {
        "id": "wh7g-nWCnx8B"
      },
      "execution_count": 45,
      "outputs": []
    },
    {
      "cell_type": "code",
      "source": [
        "class Dog(Animal):\n",
        "  def talk(self):\n",
        "    return \"Woof\""
      ],
      "metadata": {
        "id": "J514ySscn0CR"
      },
      "execution_count": 46,
      "outputs": []
    },
    {
      "cell_type": "code",
      "source": [
        "animals = [\n",
        "  Cat('navi'),\n",
        "  Cat('tom'),\n",
        "  Dog('dodo')\n",
        "]\n",
        "\n",
        "for animal in animals:\n",
        "  print(animal.name + ': ' + animal.talk())"
      ],
      "metadata": {
        "colab": {
          "base_uri": "https://localhost:8080/"
        },
        "id": "U9_W8cAjn15c",
        "outputId": "6e56ebd6-309b-4fcc-8879-ab381588359c"
      },
      "execution_count": 47,
      "outputs": [
        {
          "output_type": "stream",
          "name": "stdout",
          "text": [
            "navi: Meow\n",
            "tom: Meow\n",
            "dodo: Woof\n"
          ]
        }
      ]
    },
    {
      "cell_type": "markdown",
      "source": [
        "# Visibility"
      ],
      "metadata": {
        "id": "Nh25G1rWouLS"
      }
    },
    {
      "cell_type": "code",
      "source": [
        "class Product(object):\n",
        "  pass"
      ],
      "metadata": {
        "id": "nJzPkyRgn2xi"
      },
      "execution_count": 48,
      "outputs": []
    },
    {
      "cell_type": "code",
      "source": [
        "class Inventory(object):\n",
        "  def __init__(self):\n",
        "    self.items = []\n",
        "    self.test = \"abc\"\n",
        "\n",
        "  def add_new_item(self, product):\n",
        "    if type(product) == Product:\n",
        "      self.items.append(product)\n",
        "      print(\"new item added\")\n",
        "    else:\n",
        "      raise ValueError(\"Invalid item\")\n",
        "\n",
        "  def get_number_of_items(self):\n",
        "    return len(self.items)"
      ],
      "metadata": {
        "id": "kjB-h53Mo0Ev"
      },
      "execution_count": 49,
      "outputs": []
    },
    {
      "cell_type": "code",
      "source": [
        "my_inventory = Inventory()\n",
        "my_inventory.add_new_item(Product())\n",
        "my_inventory.add_new_item(Product())\n",
        "my_inventory.items.append('abs') # <-- Product 클래스 타입이 아닌 items 리스트에 직접 접근이 가능해 원하는 기능을 수행하지 못함\n",
        "my_inventory.items.append('qwe')"
      ],
      "metadata": {
        "colab": {
          "base_uri": "https://localhost:8080/"
        },
        "id": "gJqDEhRfpJV7",
        "outputId": "1967a82c-21d8-4395-c6e5-8031674d84f9"
      },
      "execution_count": 50,
      "outputs": [
        {
          "output_type": "stream",
          "name": "stdout",
          "text": [
            "new item added\n",
            "new item added\n"
          ]
        }
      ]
    },
    {
      "cell_type": "code",
      "source": [
        "class Inventory(object):\n",
        "  def __init__(self):\n",
        "    self.__items = []\n",
        "\n",
        "  def add_new_item(self, product):\n",
        "    if type(product) == Product:\n",
        "      self.__items.append(product)\n",
        "      print(\"new item added\")\n",
        "    else:\n",
        "      raise ValueError(\"Invalid item\")\n",
        "\n",
        "  def get_number_of_items(self):\n",
        "    return len(self.__items)"
      ],
      "metadata": {
        "id": "AzRXBqC9paS0"
      },
      "execution_count": 51,
      "outputs": []
    },
    {
      "cell_type": "code",
      "source": [
        "my_inventory = Inventory()\n",
        "my_inventory.add_new_item(Product())\n",
        "my_inventory.add_new_item(Product())\n",
        "my_inventory"
      ],
      "metadata": {
        "colab": {
          "base_uri": "https://localhost:8080/"
        },
        "id": "qg0Te39ep3UJ",
        "outputId": "0f3d2c8c-e662-49d1-98ad-a82860a0c2ff"
      },
      "execution_count": 52,
      "outputs": [
        {
          "output_type": "stream",
          "name": "stdout",
          "text": [
            "new item added\n",
            "new item added\n"
          ]
        },
        {
          "output_type": "execute_result",
          "data": {
            "text/plain": [
              "<__main__.Inventory at 0x7fb42e381210>"
            ]
          },
          "metadata": {},
          "execution_count": 52
        }
      ]
    },
    {
      "cell_type": "code",
      "source": [
        "# __ private로 직접 접근을 막음\n",
        "my_inventory.__items.append('qwe123')"
      ],
      "metadata": {
        "colab": {
          "base_uri": "https://localhost:8080/",
          "height": 193
        },
        "id": "X_N483c2p6sp",
        "outputId": "2cf0121a-1db3-4f2b-d69c-4a782eb30c63"
      },
      "execution_count": 54,
      "outputs": [
        {
          "output_type": "error",
          "ename": "AttributeError",
          "evalue": "ignored",
          "traceback": [
            "\u001b[0;31m---------------------------------------------------------------------------\u001b[0m",
            "\u001b[0;31mAttributeError\u001b[0m                            Traceback (most recent call last)",
            "\u001b[0;32m<ipython-input-54-4f1630fcb32b>\u001b[0m in \u001b[0;36m<module>\u001b[0;34m()\u001b[0m\n\u001b[1;32m      1\u001b[0m \u001b[0;31m# __ private로 직접 접근을 막음\u001b[0m\u001b[0;34m\u001b[0m\u001b[0;34m\u001b[0m\u001b[0;34m\u001b[0m\u001b[0m\n\u001b[0;32m----> 2\u001b[0;31m \u001b[0mmy_inventory\u001b[0m\u001b[0;34m.\u001b[0m\u001b[0m__items\u001b[0m\u001b[0;34m.\u001b[0m\u001b[0mappend\u001b[0m\u001b[0;34m(\u001b[0m\u001b[0;34m'qwe123'\u001b[0m\u001b[0;34m)\u001b[0m\u001b[0;34m\u001b[0m\u001b[0;34m\u001b[0m\u001b[0m\n\u001b[0m",
            "\u001b[0;31mAttributeError\u001b[0m: 'Inventory' object has no attribute '__items'"
          ]
        }
      ]
    },
    {
      "cell_type": "code",
      "source": [
        "class Inventory(object):\n",
        "  def __init__(self):\n",
        "    self.__items = []\n",
        "\n",
        "  def add_new_item(self, product):\n",
        "    if type(product) == Product:\n",
        "      self.__items.append(product)\n",
        "      print(\"new item added\")\n",
        "    else:\n",
        "      raise ValueError(\"Invalid item\")\n",
        "\n",
        "  def get_number_of_items(self):\n",
        "    return len(self.__items)\n",
        "\n",
        "  @property\n",
        "  def items(self):\n",
        "    return self.__items"
      ],
      "metadata": {
        "id": "7g-iaKsEqC2Q"
      },
      "execution_count": 55,
      "outputs": []
    },
    {
      "cell_type": "code",
      "source": [
        "my_inventory = Inventory()\n",
        "my_inventory.add_new_item(Product())\n",
        "my_inventory.add_new_item(Product())\n",
        "my_inventory"
      ],
      "metadata": {
        "colab": {
          "base_uri": "https://localhost:8080/"
        },
        "id": "OA7rcE3jrAr8",
        "outputId": "bf4b83d0-3027-42a8-d0eb-5cc15dfee6b8"
      },
      "execution_count": 56,
      "outputs": [
        {
          "output_type": "stream",
          "name": "stdout",
          "text": [
            "new item added\n",
            "new item added\n"
          ]
        },
        {
          "output_type": "execute_result",
          "data": {
            "text/plain": [
              "<__main__.Inventory at 0x7fb42e308590>"
            ]
          },
          "metadata": {},
          "execution_count": 56
        }
      ]
    },
    {
      "cell_type": "code",
      "source": [
        "my_inventory.__items"
      ],
      "metadata": {
        "colab": {
          "base_uri": "https://localhost:8080/",
          "height": 174
        },
        "id": "WRFpkr5GrCsv",
        "outputId": "9e87a01f-befa-462c-fcda-4e28b8b1c371"
      },
      "execution_count": 57,
      "outputs": [
        {
          "output_type": "error",
          "ename": "AttributeError",
          "evalue": "ignored",
          "traceback": [
            "\u001b[0;31m---------------------------------------------------------------------------\u001b[0m",
            "\u001b[0;31mAttributeError\u001b[0m                            Traceback (most recent call last)",
            "\u001b[0;32m<ipython-input-57-11cc93e1f4f4>\u001b[0m in \u001b[0;36m<module>\u001b[0;34m()\u001b[0m\n\u001b[0;32m----> 1\u001b[0;31m \u001b[0mmy_inventory\u001b[0m\u001b[0;34m.\u001b[0m\u001b[0m__items\u001b[0m\u001b[0;34m\u001b[0m\u001b[0;34m\u001b[0m\u001b[0m\n\u001b[0m",
            "\u001b[0;31mAttributeError\u001b[0m: 'Inventory' object has no attribute '__items'"
          ]
        }
      ]
    },
    {
      "cell_type": "code",
      "source": [
        "my_inventory.items"
      ],
      "metadata": {
        "colab": {
          "base_uri": "https://localhost:8080/"
        },
        "id": "SfcYY1nirHK2",
        "outputId": "aba7d641-316b-471e-a80c-c07db706e516"
      },
      "execution_count": 60,
      "outputs": [
        {
          "output_type": "execute_result",
          "data": {
            "text/plain": [
              "[<__main__.Product at 0x7fb42e308550>,\n",
              " <__main__.Product at 0x7fb42e35b910>,\n",
              " 'hello']"
            ]
          },
          "metadata": {},
          "execution_count": 60
        }
      ]
    },
    {
      "cell_type": "code",
      "source": [
        "my_inventory.items.append('hello')"
      ],
      "metadata": {
        "id": "qfIEcQfcrKyh"
      },
      "execution_count": 61,
      "outputs": []
    },
    {
      "cell_type": "markdown",
      "source": [
        "# Decorate"
      ],
      "metadata": {
        "id": "QenzmJCurtzj"
      }
    },
    {
      "cell_type": "code",
      "source": [
        "# First-class objects\n",
        "def square(x):\n",
        "  return x * x\n",
        "\n",
        "f = square\n",
        "f(5)"
      ],
      "metadata": {
        "colab": {
          "base_uri": "https://localhost:8080/"
        },
        "id": "-AktE1m6rTVt",
        "outputId": "6b3f18d5-047c-439a-b1ab-e476af9489a7"
      },
      "execution_count": 62,
      "outputs": [
        {
          "output_type": "execute_result",
          "data": {
            "text/plain": [
              "25"
            ]
          },
          "metadata": {},
          "execution_count": 62
        }
      ]
    },
    {
      "cell_type": "code",
      "source": [
        "def cube(x):\n",
        "  return x * x * x"
      ],
      "metadata": {
        "id": "kXOh_U2dr4Ti"
      },
      "execution_count": 63,
      "outputs": []
    },
    {
      "cell_type": "code",
      "source": [
        "# 함수를 파라미터로 사용 가능\n",
        "def formula(method, argument_list):\n",
        "  return [method(value) for value in argument_list]"
      ],
      "metadata": {
        "id": "nQ8p-HIisBX5"
      },
      "execution_count": 64,
      "outputs": []
    },
    {
      "cell_type": "code",
      "source": [
        "formula(square, [1, 2, 3])"
      ],
      "metadata": {
        "colab": {
          "base_uri": "https://localhost:8080/"
        },
        "id": "A9HlUTs6sRMK",
        "outputId": "ae5cc60d-268c-4236-d4e6-800a10f3046a"
      },
      "execution_count": 65,
      "outputs": [
        {
          "output_type": "execute_result",
          "data": {
            "text/plain": [
              "[1, 4, 9]"
            ]
          },
          "metadata": {},
          "execution_count": 65
        }
      ]
    },
    {
      "cell_type": "code",
      "source": [
        "formula(cube, [1, 2, 3])"
      ],
      "metadata": {
        "colab": {
          "base_uri": "https://localhost:8080/"
        },
        "id": "dlaSFfF3sWCf",
        "outputId": "e06abc88-0115-4203-f6b8-6d78367e0408"
      },
      "execution_count": 66,
      "outputs": [
        {
          "output_type": "execute_result",
          "data": {
            "text/plain": [
              "[1, 8, 27]"
            ]
          },
          "metadata": {},
          "execution_count": 66
        }
      ]
    },
    {
      "cell_type": "code",
      "source": [
        "# inner function\n",
        "def print_msg(msg):\n",
        "  def printer():\n",
        "    print(msg)\n",
        "  printer()\n",
        "\n",
        "print_msg('hello, Python')"
      ],
      "metadata": {
        "colab": {
          "base_uri": "https://localhost:8080/"
        },
        "id": "Bq4cJKOtsYKo",
        "outputId": "e05700af-c94a-4f25-9e15-8a7c4419f1f5"
      },
      "execution_count": 67,
      "outputs": [
        {
          "output_type": "stream",
          "name": "stdout",
          "text": [
            "hello, Python\n"
          ]
        }
      ]
    },
    {
      "cell_type": "code",
      "source": [
        "# closures : inner function을 return값으로 반환\n",
        "def print_msg(msg):\n",
        "  def printer():\n",
        "    print(msg)\n",
        "  return printer\n",
        "\n",
        "another = print_msg(\"hello, Python!!!\")\n",
        "another()"
      ],
      "metadata": {
        "colab": {
          "base_uri": "https://localhost:8080/"
        },
        "id": "DLq7j0L5shVp",
        "outputId": "fe3469cf-5640-4661-f9a1-2878c26ef5a4"
      },
      "execution_count": 70,
      "outputs": [
        {
          "output_type": "stream",
          "name": "stdout",
          "text": [
            "hello, Python!!!\n"
          ]
        }
      ]
    },
    {
      "cell_type": "code",
      "source": [
        "other_msg = print_msg('안녕하세요, Python')\n",
        "other_msg()"
      ],
      "metadata": {
        "colab": {
          "base_uri": "https://localhost:8080/"
        },
        "id": "lUPaJs4fs25w",
        "outputId": "5b23f51a-b942-4abd-d3eb-9fde916874f8"
      },
      "execution_count": 71,
      "outputs": [
        {
          "output_type": "stream",
          "name": "stdout",
          "text": [
            "안녕하세요, Python\n"
          ]
        }
      ]
    },
    {
      "cell_type": "code",
      "source": [
        "another()\n",
        "other_msg()"
      ],
      "metadata": {
        "colab": {
          "base_uri": "https://localhost:8080/"
        },
        "id": "XiVI-RumtHEk",
        "outputId": "409c4b7c-62eb-4336-bda8-1fde0988846c"
      },
      "execution_count": 72,
      "outputs": [
        {
          "output_type": "stream",
          "name": "stdout",
          "text": [
            "hello, Python!!!\n",
            "안녕하세요, Python\n"
          ]
        }
      ]
    },
    {
      "cell_type": "code",
      "source": [
        "def tag_func(tag, text):\n",
        "  tag = tag\n",
        "  text = text\n",
        "\n",
        "  def inner_func():\n",
        "    return '<{0}>{1}<{0}>'.format(tag, text)\n",
        "\n",
        "  return inner_func\n",
        "\n",
        "h1_func = tag_func('title', 'This is Python Class')\n",
        "p_func = tag_func('p', 'Data Academy')"
      ],
      "metadata": {
        "id": "4Rj308uWtI5A"
      },
      "execution_count": 73,
      "outputs": []
    },
    {
      "cell_type": "code",
      "source": [
        "h1_func()\n",
        "# p_func()"
      ],
      "metadata": {
        "colab": {
          "base_uri": "https://localhost:8080/",
          "height": 35
        },
        "id": "HTGbEQ_gtvtk",
        "outputId": "488d4ac4-9bab-4423-ead9-d4fb2cee14c7"
      },
      "execution_count": 76,
      "outputs": [
        {
          "output_type": "execute_result",
          "data": {
            "text/plain": [
              "'<title>This is Python Class<title>'"
            ],
            "application/vnd.google.colaboratory.intrinsic+json": {
              "type": "string"
            }
          },
          "metadata": {},
          "execution_count": 76
        }
      ]
    },
    {
      "cell_type": "code",
      "source": [
        "def star(func):\n",
        "  def inner(*args, **kwargs):\n",
        "    print(\"*\" * 30)\n",
        "    func(*args, **kwargs)\n",
        "    print(\"*\" * 30)\n",
        "  return inner"
      ],
      "metadata": {
        "id": "ZpHJyrfutym_"
      },
      "execution_count": 77,
      "outputs": []
    },
    {
      "cell_type": "code",
      "source": [
        "@star\n",
        "def printer(msg):\n",
        "  print(msg)"
      ],
      "metadata": {
        "id": "Sx-sM6juuav-"
      },
      "execution_count": 78,
      "outputs": []
    },
    {
      "cell_type": "code",
      "source": [
        "printer('Hello')"
      ],
      "metadata": {
        "colab": {
          "base_uri": "https://localhost:8080/"
        },
        "id": "DGSjFSAFueb5",
        "outputId": "dd771eed-1fe2-4cb5-eb94-0305215022e2"
      },
      "execution_count": 79,
      "outputs": [
        {
          "output_type": "stream",
          "name": "stdout",
          "text": [
            "******************************\n",
            "Hello\n",
            "******************************\n"
          ]
        }
      ]
    },
    {
      "cell_type": "code",
      "source": [
        "def star(func):\n",
        "  def inner(*args, **kwargs):\n",
        "    print(args[1] * 30)\n",
        "    func(*args, **kwargs)\n",
        "    print(args[1] * 30)\n",
        "  return inner\n",
        "\n",
        "@star\n",
        "def printer(msg, mark):\n",
        "  print(msg)\n",
        "\n",
        "printer(\"Hello\", \"=\")"
      ],
      "metadata": {
        "colab": {
          "base_uri": "https://localhost:8080/"
        },
        "id": "8FjQQYX0ugC1",
        "outputId": "c0148e14-f7c8-4ae0-f669-da1bff9deccf"
      },
      "execution_count": 81,
      "outputs": [
        {
          "output_type": "stream",
          "name": "stdout",
          "text": [
            "==============================\n",
            "Hello\n",
            "==============================\n"
          ]
        }
      ]
    },
    {
      "cell_type": "code",
      "source": [
        "def generate_power(exponent):\n",
        "  def wrapper(f):\n",
        "    def inner(*args):\n",
        "      result = f(*args)\n",
        "      print(result)\n",
        "      return exponent**result\n",
        "    return inner\n",
        "  return wrapper\n",
        "\n",
        "@generate_power(2)\n",
        "def raise_two(n):\n",
        "  return n**2"
      ],
      "metadata": {
        "id": "ONZXN09lu5Ei"
      },
      "execution_count": 88,
      "outputs": []
    },
    {
      "cell_type": "code",
      "source": [
        "print(raise_two(7))"
      ],
      "metadata": {
        "colab": {
          "base_uri": "https://localhost:8080/"
        },
        "id": "gUeyU3e3vvT3",
        "outputId": "240a78cd-6170-4e6d-b418-9b387da6a98d"
      },
      "execution_count": 89,
      "outputs": [
        {
          "output_type": "stream",
          "name": "stdout",
          "text": [
            "49\n",
            "562949953421312\n"
          ]
        }
      ]
    },
    {
      "cell_type": "code",
      "source": [
        "2**49"
      ],
      "metadata": {
        "colab": {
          "base_uri": "https://localhost:8080/"
        },
        "id": "-wrKtgp3vxeo",
        "outputId": "a5a3dde5-d144-4cf4-8763-7b2fdbf4f54c"
      },
      "execution_count": 90,
      "outputs": [
        {
          "output_type": "execute_result",
          "data": {
            "text/plain": [
              "562949953421312"
            ]
          },
          "metadata": {},
          "execution_count": 90
        }
      ]
    },
    {
      "cell_type": "code",
      "source": [
        ""
      ],
      "metadata": {
        "id": "-Piz2Z2-wTHa"
      },
      "execution_count": null,
      "outputs": []
    }
  ]
}